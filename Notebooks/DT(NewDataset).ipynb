{
 "cells": [
  {
   "cell_type": "code",
   "execution_count": 1,
   "id": "d65ebc28",
   "metadata": {},
   "outputs": [],
   "source": [
    "import pandas\n",
    "from sklearn import tree\n",
    "from sklearn.model_selection import train_test_split\n",
    "from sklearn.metrics import precision_score, recall_score, f1_score, accuracy_score"
   ]
  },
  {
   "cell_type": "code",
   "execution_count": 2,
   "id": "7ce7e150",
   "metadata": {},
   "outputs": [],
   "source": [
    "from sklearn.tree import DecisionTreeClassifier"
   ]
  },
  {
   "cell_type": "code",
   "execution_count": 3,
   "id": "26f4e4cc",
   "metadata": {},
   "outputs": [],
   "source": [
    "df = pandas.read_csv(\"E:/Salem/400C/Final Dataset.csv\")"
   ]
  },
  {
   "cell_type": "code",
   "execution_count": 4,
   "id": "0f87bace",
   "metadata": {},
   "outputs": [
    {
     "name": "stdout",
     "output_type": "stream",
     "text": [
      "     Total number of packages  Average cyclomatic complexity of the methods  \\\n",
      "0                           1                                           2.0   \n",
      "1                           1                                           4.0   \n",
      "2                           0                                           0.0   \n",
      "3                           1                                           2.0   \n",
      "4                           1                                           1.0   \n",
      "..                        ...                                           ...   \n",
      "825                         1                                           2.0   \n",
      "826                         1                                           3.0   \n",
      "827                         1                                           3.5   \n",
      "828                         1                                           3.0   \n",
      "829                         1                                           4.5   \n",
      "\n",
      "     Cumulative Halstead Effort  Total number of comment lines in the system   \\\n",
      "0                       2387.44                                             0   \n",
      "1                       6213.84                                             0   \n",
      "2                          0.00                                             0   \n",
      "3                      10060.88                                             0   \n",
      "4                       3893.80                                             0   \n",
      "..                          ...                                           ...   \n",
      "825                     4877.80                                             0   \n",
      "826                    21867.65                                             0   \n",
      "827                    15085.22                                             0   \n",
      "828                    12358.42                                             0   \n",
      "829                    38786.19                                             0   \n",
      "\n",
      "     Total number of classes   Cumulative halstead length  \\\n",
      "0                           1                        49.0   \n",
      "1                           1                        87.0   \n",
      "2                           0                         0.0   \n",
      "3                           1                       121.0   \n",
      "4                           1                        70.0   \n",
      "..                        ...                         ...   \n",
      "825                         1                        75.0   \n",
      "826                         1                       194.0   \n",
      "827                         1                       176.0   \n",
      "828                         1                       155.0   \n",
      "829                         1                       223.0   \n",
      "\n",
      "     Total cyclomatic complexity  Cumulative Halstead Volume  \\\n",
      "0                            2.0                      225.48   \n",
      "1                            4.0                      437.99   \n",
      "2                            0.0                        0.00   \n",
      "3                            2.0                      635.13   \n",
      "4                            1.0                      335.67   \n",
      "..                           ...                         ...   \n",
      "825                          2.0                      385.10   \n",
      "826                          6.0                      955.70   \n",
      "827                          7.0                      894.50   \n",
      "828                          6.0                      759.43   \n",
      "829                          9.0                     1117.12   \n",
      "\n",
      "     Total number of java statements   Cumulative Halstead Bugs   \\\n",
      "0                                 9.0                       0.08   \n",
      "1                                12.0                       0.15   \n",
      "2                                 0.0                       0.00   \n",
      "3                                14.0                       0.21   \n",
      "4                                10.0                       0.11   \n",
      "..                                ...                        ...   \n",
      "825                              10.0                       0.13   \n",
      "826                              29.0                       0.32   \n",
      "827                              29.0                       0.30   \n",
      "828                              26.0                       0.25   \n",
      "829                              30.0                       0.37   \n",
      "\n",
      "     Maintainabilty index   Total Lines of code in system   \\\n",
      "0                   108.34                              12   \n",
      "1                    99.95                              22   \n",
      "2                   171.00                               0   \n",
      "3                    96.27                              16   \n",
      "4                   105.19                              14   \n",
      "..                     ...                             ...   \n",
      "825                 104.19                              17   \n",
      "826                  95.18                              41   \n",
      "827                  96.34                              40   \n",
      "828                  98.91                              35   \n",
      "829                  92.34                              42   \n",
      "\n",
      "     Total number of  comments in the system    Total number of methods   \\\n",
      "0                                          0.0                         1   \n",
      "1                                          0.0                         1   \n",
      "2                                          0.0                         0   \n",
      "3                                          0.0                         1   \n",
      "4                                          0.0                         1   \n",
      "..                                         ...                       ...   \n",
      "825                                        0.0                         1   \n",
      "826                                        0.0                         2   \n",
      "827                                        0.0                         2   \n",
      "828                                        0.0                         2   \n",
      "829                                        0.0                         2   \n",
      "\n",
      "     Maintainabilty Index(Not including comments)  Result  \n",
      "0                                          108.34       1  \n",
      "1                                           99.95       1  \n",
      "2                                          171.00       0  \n",
      "3                                           96.27       1  \n",
      "4                                          105.19       1  \n",
      "..                                            ...     ...  \n",
      "825                                        104.19       1  \n",
      "826                                         95.18       1  \n",
      "827                                         96.34       1  \n",
      "828                                         98.91       1  \n",
      "829                                         92.34       1  \n",
      "\n",
      "[830 rows x 16 columns]\n"
     ]
    }
   ],
   "source": [
    "print(df)"
   ]
  },
  {
   "cell_type": "code",
   "execution_count": 5,
   "id": "196c0b75",
   "metadata": {},
   "outputs": [
    {
     "data": {
      "text/plain": [
       "Index(['Total number of packages',\n",
       "       'Average cyclomatic complexity of the methods',\n",
       "       'Cumulative Halstead Effort',\n",
       "       'Total number of comment lines in the system ',\n",
       "       'Total number of classes ', 'Cumulative halstead length',\n",
       "       'Total cyclomatic complexity', 'Cumulative Halstead Volume',\n",
       "       'Total number of java statements ', 'Cumulative Halstead Bugs ',\n",
       "       'Maintainabilty index ', 'Total Lines of code in system ',\n",
       "       'Total number of  comments in the system  ', 'Total number of methods ',\n",
       "       'Maintainabilty Index(Not including comments)', 'Result'],\n",
       "      dtype='object')"
      ]
     },
     "execution_count": 5,
     "metadata": {},
     "output_type": "execute_result"
    }
   ],
   "source": [
    "features = df.columns\n",
    "features"
   ]
  },
  {
   "cell_type": "code",
   "execution_count": 6,
   "id": "c9ee5ee9",
   "metadata": {},
   "outputs": [
    {
     "data": {
      "text/plain": [
       "['Total number of packages',\n",
       " 'Average cyclomatic complexity of the methods',\n",
       " 'Cumulative Halstead Effort',\n",
       " 'Total number of comment lines in the system ',\n",
       " 'Total number of classes ',\n",
       " 'Cumulative halstead length',\n",
       " 'Total cyclomatic complexity',\n",
       " 'Cumulative Halstead Volume',\n",
       " 'Total number of java statements ',\n",
       " 'Cumulative Halstead Bugs ',\n",
       " 'Maintainabilty index ',\n",
       " 'Total Lines of code in system ',\n",
       " 'Total number of  comments in the system  ',\n",
       " 'Total number of methods ',\n",
       " 'Maintainabilty Index(Not including comments)']"
      ]
     },
     "execution_count": 6,
     "metadata": {},
     "output_type": "execute_result"
    }
   ],
   "source": [
    "features = [x for x in features if x!='Result']\n",
    "features"
   ]
  },
  {
   "cell_type": "code",
   "execution_count": 7,
   "id": "3264d7e3",
   "metadata": {},
   "outputs": [
    {
     "name": "stdout",
     "output_type": "stream",
     "text": [
      "830\n",
      "747\n",
      "83\n"
     ]
    }
   ],
   "source": [
    "train, test = train_test_split(df, test_size =0.10)\n",
    "print(len(df))\n",
    "print(len(train))\n",
    "print(len(test))"
   ]
  },
  {
   "cell_type": "code",
   "execution_count": 8,
   "id": "cdc23ee0",
   "metadata": {},
   "outputs": [],
   "source": [
    "dt = DecisionTreeClassifier(min_samples_split = 50, criterion = 'entropy')"
   ]
  },
  {
   "cell_type": "code",
   "execution_count": 9,
   "id": "f20849ed",
   "metadata": {},
   "outputs": [],
   "source": [
    "X_train = train[features]\n",
    "y_train = train['Result']\n",
    "\n",
    "X_test = test[features]\n",
    "y_test = test['Result']"
   ]
  },
  {
   "cell_type": "code",
   "execution_count": 10,
   "id": "fd62b521",
   "metadata": {},
   "outputs": [
    {
     "name": "stdout",
     "output_type": "stream",
     "text": [
      "<class 'pandas.core.frame.DataFrame'>\n",
      "RangeIndex: 830 entries, 0 to 829\n",
      "Data columns (total 16 columns):\n",
      " #   Column                                        Non-Null Count  Dtype  \n",
      "---  ------                                        --------------  -----  \n",
      " 0   Total number of packages                      830 non-null    int64  \n",
      " 1   Average cyclomatic complexity of the methods  830 non-null    float64\n",
      " 2   Cumulative Halstead Effort                    830 non-null    float64\n",
      " 3   Total number of comment lines in the system   830 non-null    int64  \n",
      " 4   Total number of classes                       830 non-null    int64  \n",
      " 5   Cumulative halstead length                    830 non-null    float64\n",
      " 6   Total cyclomatic complexity                   830 non-null    float64\n",
      " 7   Cumulative Halstead Volume                    830 non-null    float64\n",
      " 8   Total number of java statements               830 non-null    float64\n",
      " 9   Cumulative Halstead Bugs                      830 non-null    float64\n",
      " 10  Maintainabilty index                          830 non-null    float64\n",
      " 11  Total Lines of code in system                 830 non-null    int64  \n",
      " 12  Total number of  comments in the system       830 non-null    float64\n",
      " 13  Total number of methods                       830 non-null    int64  \n",
      " 14  Maintainabilty Index(Not including comments)  830 non-null    float64\n",
      " 15  Result                                        830 non-null    int64  \n",
      "dtypes: float64(10), int64(6)\n",
      "memory usage: 103.9 KB\n"
     ]
    }
   ],
   "source": [
    "df.info()"
   ]
  },
  {
   "cell_type": "code",
   "execution_count": 11,
   "id": "86170285",
   "metadata": {},
   "outputs": [],
   "source": [
    "dt = dt.fit(X_train,y_train)"
   ]
  },
  {
   "cell_type": "code",
   "execution_count": 12,
   "id": "caed0ad8",
   "metadata": {},
   "outputs": [
    {
     "data": {
      "text/plain": [
       "array([0, 1, 0, 1, 1, 0, 0, 1, 1, 0, 1, 1, 0, 1, 1, 1, 1, 1, 0, 0, 0, 1,\n",
       "       0, 1, 1, 1, 1, 1, 0, 0, 1, 1, 1, 1, 0, 1, 0, 1, 0, 0, 0, 1, 0, 1,\n",
       "       1, 1, 0, 1, 0, 1, 1, 0, 1, 0, 0, 0, 1, 1, 1, 1, 1, 1, 1, 0, 1, 1,\n",
       "       1, 0, 1, 1, 0, 0, 1, 0, 1, 1, 0, 1, 1, 1, 0, 1, 0], dtype=int64)"
      ]
     },
     "execution_count": 12,
     "metadata": {},
     "output_type": "execute_result"
    }
   ],
   "source": [
    "y_pred=dt.predict(X_test)\n",
    "y_pred"
   ]
  },
  {
   "cell_type": "code",
   "execution_count": 13,
   "id": "9dd81f64",
   "metadata": {},
   "outputs": [
    {
     "name": "stdout",
     "output_type": "stream",
     "text": [
      "94.0 %\n"
     ]
    }
   ],
   "source": [
    "from sklearn.metrics import accuracy_score\n",
    "score=accuracy_score(y_test,y_pred)*100\n",
    "print(round(score,1),\"%\")"
   ]
  },
  {
   "cell_type": "code",
   "execution_count": 14,
   "id": "47819b67",
   "metadata": {},
   "outputs": [
    {
     "name": "stdout",
     "output_type": "stream",
     "text": [
      "Precision: 0.941\n"
     ]
    }
   ],
   "source": [
    "print('Precision: %.3f' % precision_score(y_test, y_pred))"
   ]
  },
  {
   "cell_type": "code",
   "execution_count": 15,
   "id": "684838fc",
   "metadata": {},
   "outputs": [
    {
     "name": "stdout",
     "output_type": "stream",
     "text": [
      "Recall: 0.960\n"
     ]
    }
   ],
   "source": [
    "print('Recall: %.3f' % recall_score(y_test, y_pred))"
   ]
  },
  {
   "cell_type": "code",
   "execution_count": 16,
   "id": "29e3f62e",
   "metadata": {},
   "outputs": [
    {
     "name": "stdout",
     "output_type": "stream",
     "text": [
      "F1 Score: 0.950\n"
     ]
    }
   ],
   "source": [
    "print('F1 Score: %.3f' % f1_score(y_test, y_pred))"
   ]
  },
  {
   "cell_type": "code",
   "execution_count": 17,
   "id": "56f0ca82",
   "metadata": {},
   "outputs": [],
   "source": [
    "from joblib import dump"
   ]
  },
  {
   "cell_type": "code",
   "execution_count": 18,
   "id": "427d927b",
   "metadata": {},
   "outputs": [
    {
     "data": {
      "text/plain": [
       "['./../savedModels/model.joblib']"
      ]
     },
     "execution_count": 18,
     "metadata": {},
     "output_type": "execute_result"
    }
   ],
   "source": [
    "dump(dt, './../savedModels/model.joblib')"
   ]
  }
 ],
 "metadata": {
  "kernelspec": {
   "display_name": "Python 3 (ipykernel)",
   "language": "python",
   "name": "python3"
  },
  "language_info": {
   "codemirror_mode": {
    "name": "ipython",
    "version": 3
   },
   "file_extension": ".py",
   "mimetype": "text/x-python",
   "name": "python",
   "nbconvert_exporter": "python",
   "pygments_lexer": "ipython3",
   "version": "3.10.7"
  },
  "vscode": {
   "interpreter": {
    "hash": "3b7e9cb8e453d6cda0fe8c8dd13f891a1f09162f0e7c66ffeae7751a7aecf00d"
   }
  }
 },
 "nbformat": 4,
 "nbformat_minor": 5
}
